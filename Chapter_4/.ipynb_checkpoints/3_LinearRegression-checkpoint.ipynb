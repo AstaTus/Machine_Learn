{
 "cells": [
  {
   "cell_type": "code",
   "execution_count": 1,
   "metadata": {
    "collapsed": true
   },
   "outputs": [],
   "source": [
    "import tensorflow as tf"
   ]
  },
  {
   "cell_type": "code",
   "execution_count": 2,
   "metadata": {
    "collapsed": false
   },
   "outputs": [],
   "source": [
    "W = tf.Variable(tf.zeros([2, 1]), name=\"weights\")\n",
    "b = tf.Variable(0., name=\"bias\")"
   ]
  },
  {
   "cell_type": "code",
   "execution_count": 3,
   "metadata": {
    "collapsed": true
   },
   "outputs": [],
   "source": [
    "def inference(X):\n",
    "    return tf.matmul(X, W) + b"
   ]
  },
  {
   "cell_type": "code",
   "execution_count": 6,
   "metadata": {
    "collapsed": true
   },
   "outputs": [],
   "source": [
    "def loss_1(X, Y):\n",
    "    y_pred = inference(X)\n",
    "    return tf.reduce_sum(tf.squared_difference(Y - y_pred))"
   ]
  },
  {
   "cell_type": "code",
   "execution_count": 7,
   "metadata": {
    "collapsed": true
   },
   "outputs": [],
   "source": [
    "def loss_2(X, Y):\n",
    "    y_pred = inference(X)\n",
    "    return tf.reduce_sum(tf.pow(tf.sub(Y - y_pred)))"
   ]
  },
  {
   "cell_type": "code",
   "execution_count": 8,
   "metadata": {
    "collapsed": true
   },
   "outputs": [],
   "source": [
    "def input():\n",
    "    weight_age = [[84, 46], [73, 20], [65, 52], [70, 30], [76, 57], \n",
    "                  [69, 25], [63, 28], [72, 36], [79, 57], [75, 44],\n",
    "                 [27, 24], [89, 31], [65, 52], [57, 23], [59, 60],\n",
    "                 [69, 48], [60, 34], [79, 51], [75, 50], [82, 34],\n",
    "                 [59, 46], [67, 23], [85, 37], [55, 40], [63, 30]]\n",
    "    content = [354,190,405  ,263  ,451  ,302  ,288  ,385  ,402  ,365  ,209  ,290  ,346  ,254  ,395  ,434  ,220  ,374  ,308  ,220  ,311  ,181  ,274  ,303  ,244]\n",
    "    return tf.to_float(weight_age), tf.to_float(content)"
   ]
  },
  {
   "cell_type": "code",
   "execution_count": null,
   "metadata": {
    "collapsed": true
   },
   "outputs": [],
   "source": [
    "def train(total_loss):\n",
    "    learning_rate = 0.0000001\n",
    "    return tf.train.GradientDescentOptimozer(learning_rate).minimize(total_loss)"
   ]
  },
  {
   "cell_type": "code",
   "execution_count": null,
   "metadata": {
    "collapsed": true
   },
   "outputs": [],
   "source": [
    "def evaluate(sess, X, Y):\n",
    "    print sess.run(inference([[80., 25.]])) #~303\n",
    "    print sess.run(inference([[65., 25.]])) #256\n",
    "    "
   ]
  }
 ],
 "metadata": {
  "anaconda-cloud": {},
  "kernelspec": {
   "display_name": "Python [conda root]",
   "language": "python",
   "name": "conda-root-py"
  },
  "language_info": {
   "codemirror_mode": {
    "name": "ipython",
    "version": 3
   },
   "file_extension": ".py",
   "mimetype": "text/x-python",
   "name": "python",
   "nbconvert_exporter": "python",
   "pygments_lexer": "ipython3",
   "version": "3.5.2"
  }
 },
 "nbformat": 4,
 "nbformat_minor": 1
}
